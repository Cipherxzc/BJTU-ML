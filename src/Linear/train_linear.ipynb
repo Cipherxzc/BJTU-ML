{
 "cells": [
  {
   "cell_type": "code",
   "execution_count": 1,
   "metadata": {},
   "outputs": [
    {
     "name": "stdout",
     "output_type": "stream",
     "text": [
      "Train data shape: (60000, 784)\n",
      "Test data shape: (10000, 784)\n"
     ]
    }
   ],
   "source": [
    "import numpy as np\n",
    "import pandas as pd\n",
    "from sklearn.preprocessing import StandardScaler\n",
    "from sklearn.decomposition import PCA\n",
    "\n",
    "train_data_path = \"../data/fashion-mnist_train.csv\"\n",
    "test_data_path = \"../data/fashion-mnist_test.csv\"\n",
    "\n",
    "train_data = pd.read_csv(train_data_path)\n",
    "test_data = pd.read_csv(test_data_path)\n",
    "\n",
    "X_train = train_data.drop(\"label\", axis=1).values\n",
    "y_train = train_data[\"label\"].values\n",
    "\n",
    "X_test = test_data.drop(\"label\", axis=1).values\n",
    "y_test = test_data[\"label\"].values\n",
    "\n",
    "# 数据标准化：将数据标准化到均值为0，方差为1\n",
    "scaler = StandardScaler()\n",
    "X_train = scaler.fit_transform(X_train)\n",
    "X_test = scaler.transform(X_test)\n",
    "\n",
    "# 使用 PCA 进行降维\n",
    "pca = PCA(n_components=50)  # 保留50个主成分\n",
    "X_train_pca = pca.fit_transform(X_train)\n",
    "X_test_pca = pca.transform(X_test)\n",
    "\n",
    "print(f\"Train data shape: {X_train.shape}\")\n",
    "print(f\"Test data shape: {X_test.shape}\")"
   ]
  },
  {
   "cell_type": "code",
   "execution_count": 2,
   "metadata": {},
   "outputs": [
    {
     "name": "stdout",
     "output_type": "stream",
     "text": [
      "Model saved to ../models/linear_pca_model.pkl\n"
     ]
    }
   ],
   "source": [
    "from linear_pca_classifier import SoftmaxRegression\n",
    "\n",
    "model = SoftmaxRegression(learning_rate=0.001, iterations=1000)\n",
    "model.fit(X_train, y_train, num_classes=10)\n",
    "\n",
    "model.save_model(\"../models/linear_pca_model.pkl\")"
   ]
  },
  {
   "cell_type": "code",
   "execution_count": 3,
   "metadata": {},
   "outputs": [
    {
     "name": "stdout",
     "output_type": "stream",
     "text": [
      "Model loaded from ../models/linear_pca_model.pkl\n",
      "Accuracy: 0.78\n"
     ]
    }
   ],
   "source": [
    "from sklearn.metrics import accuracy_score\n",
    "\n",
    "model = SoftmaxRegression.load_model(\"../models/linear_pca_model.pkl\")\n",
    "\n",
    "y_pred = model.predict(X_test)\n",
    "accuracy = accuracy_score(y_test, y_pred)\n",
    "print(f'Accuracy: {accuracy:.2f}')"
   ]
  }
 ],
 "metadata": {
  "kernelspec": {
   "display_name": "ML",
   "language": "python",
   "name": "python3"
  },
  "language_info": {
   "codemirror_mode": {
    "name": "ipython",
    "version": 3
   },
   "file_extension": ".py",
   "mimetype": "text/x-python",
   "name": "python",
   "nbconvert_exporter": "python",
   "pygments_lexer": "ipython3",
   "version": "3.11.11"
  }
 },
 "nbformat": 4,
 "nbformat_minor": 2
}
