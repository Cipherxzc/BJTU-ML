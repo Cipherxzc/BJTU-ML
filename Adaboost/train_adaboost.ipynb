{
 "cells": [
  {
   "cell_type": "code",
   "execution_count": 5,
   "metadata": {},
   "outputs": [
    {
     "name": "stdout",
     "output_type": "stream",
     "text": [
      "Train data shape: (60000, 784)\n",
      "Test data shape: (10000, 784)\n"
     ]
    }
   ],
   "source": [
    "import numpy as np\n",
    "import pandas as pd\n",
    "from sklearn.preprocessing import StandardScaler\n",
    "\n",
    "train_data_path = \"../data/fashion-mnist_train.csv\"\n",
    "test_data_path = \"../data/fashion-mnist_test.csv\"\n",
    "\n",
    "train_data = pd.read_csv(train_data_path)\n",
    "test_data = pd.read_csv(test_data_path)\n",
    "\n",
    "X_train = train_data.drop(\"label\", axis=1).values\n",
    "y_train = train_data[\"label\"].values\n",
    "\n",
    "X_test = test_data.drop(\"label\", axis=1).values\n",
    "y_test = test_data[\"label\"].values\n",
    "\n",
    "# 数据预处理：标准化\n",
    "scaler = StandardScaler()\n",
    "X_train = scaler.fit_transform(X_train)\n",
    "X_test = scaler.transform(X_test)\n",
    "\n",
    "print(f\"Train data shape: {X_train.shape}\")\n",
    "print(f\"Test data shape: {X_test.shape}\")"
   ]
  },
  {
   "cell_type": "code",
   "execution_count": 2,
   "metadata": {},
   "outputs": [
    {
     "name": "stdout",
     "output_type": "stream",
     "text": [
      "The 1 base_model's error: 0.3465\n",
      "\n",
      "The 2 base_model's error: 0.4071\n",
      "\n",
      "The 3 base_model's error: 0.4315\n",
      "\n",
      "The 4 base_model's error: 0.4507\n",
      "\n",
      "The 5 base_model's error: 0.4637\n",
      "\n",
      "The 6 base_model's error: 0.4878\n",
      "\n",
      "The 7 base_model's error: 0.4919\n",
      "\n",
      "The 8 base_model's error: 0.4829\n",
      "\n",
      "The 9 base_model's error: 0.4860\n",
      "\n",
      "The 10 base_model's error: 0.5003\n",
      "\n",
      "Error: error >= 0.5 or error == 0\n",
      "\n",
      "Model saved to models/adaboost_model.pkl\n"
     ]
    }
   ],
   "source": [
    "from adaboost_classifier import ShallowDecisionTree, AdaBoost\n",
    "\n",
    "base_model = ShallowDecisionTree\n",
    "model = AdaBoost(base_model, n_estimators=50, max_depth=4)\n",
    "model.fit(X_train, y_train)\n",
    "\n",
    "model.save_model(\"../models/adaboost_model.pkl\")"
   ]
  },
  {
   "cell_type": "code",
   "execution_count": 7,
   "metadata": {},
   "outputs": [
    {
     "name": "stdout",
     "output_type": "stream",
     "text": [
      "Model loaded from ../models/adaboost_model.pkl\n",
      "Accuracy: 0.67\n"
     ]
    }
   ],
   "source": [
    "from adaboost_classifier import ShallowDecisionTree, AdaBoost\n",
    "from sklearn.metrics import accuracy_score\n",
    "\n",
    "model = AdaBoost.load_model(\"../models/adaboost_model.pkl\")\n",
    "\n",
    "y_pred = model.predict(X_test)\n",
    "accuracy = accuracy_score(y_test, y_pred)\n",
    "print(f'Accuracy: {accuracy:.2f}')"
   ]
  }
 ],
 "metadata": {
  "kernelspec": {
   "display_name": "ML",
   "language": "python",
   "name": "python3"
  },
  "language_info": {
   "codemirror_mode": {
    "name": "ipython",
    "version": 3
   },
   "file_extension": ".py",
   "mimetype": "text/x-python",
   "name": "python",
   "nbconvert_exporter": "python",
   "pygments_lexer": "ipython3",
   "version": "3.11.11"
  }
 },
 "nbformat": 4,
 "nbformat_minor": 2
}
